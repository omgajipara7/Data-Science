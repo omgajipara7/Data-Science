{
 "cells": [
  {
   "cell_type": "code",
   "execution_count": null,
   "id": "c2b88288",
   "metadata": {},
   "outputs": [],
   "source": [
    "from sklearn.tree import DecisionTreeRegressor\n",
    "from sklearn.model_selection import train_test_split\n",
    "import numpy as np\n",
    "\n",
    "best_score = 0\n",
    "best_state = 0\n",
    "best_depth = 0\n",
    "min_diff = float('inf')\n",
    "\n",
    "# Loop through all random states\n",
    "for state in range(0, 101):\n",
    "    X_train, X_test, y_train, y_test = train_test_split(x, y, test_size=0.2, random_state=state)\n",
    "\n",
    "    for depth in range(1, 21):\n",
    "        model = DecisionTreeRegressor(max_depth=depth, random_state=state)\n",
    "        model.fit(X_train, y_train)\n",
    "\n",
    "        train_acc = model.score(X_train, y_train)\n",
    "        test_acc = model.score(X_test, y_test)\n",
    "        diff = abs(train_acc - test_acc)\n",
    "\n",
    "        # Choose only if test_acc is high and train-test diff is low\n",
    "        if test_acc > best_score or (test_acc == best_score and diff < min_diff):\n",
    "            best_score = test_acc\n",
    "            best_state = state\n",
    "            best_depth = depth\n",
    "            min_diff = diff\n",
    "\n",
    "# Final output\n",
    "print(\"✅ Best Random State:\", best_state)\n",
    "print(\"✅ Best Max Depth:\", best_depth)\n",
    "print(f\"✅ Best Test Accuracy: {best_score*100:.2f}%\")\n",
    "print(f\"✅ Min Train-Test Accuracy Diff: {min_diff:.4f}\")\n"
   ]
  }
 ],
 "metadata": {
  "kernelspec": {
   "display_name": "Python 3 (ipykernel)",
   "language": "python",
   "name": "python3"
  },
  "language_info": {
   "codemirror_mode": {
    "name": "ipython",
    "version": 3
   },
   "file_extension": ".py",
   "mimetype": "text/x-python",
   "name": "python",
   "nbconvert_exporter": "python",
   "pygments_lexer": "ipython3",
   "version": "3.13.1"
  }
 },
 "nbformat": 4,
 "nbformat_minor": 5
}
