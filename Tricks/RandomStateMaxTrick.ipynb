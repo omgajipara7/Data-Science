{
 "cells": [
  {
   "cell_type": "code",
   "execution_count": 1,
   "id": "d5fccdc7",
   "metadata": {},
   "outputs": [],
   "source": [
    "import pandas as pd\n",
    "from sklearn.model_selection import train_test_split\n",
    "from sklearn.linear_model import LogisticRegression\n",
    "from sklearn.metrics import accuracy_score"
   ]
  },
  {
   "cell_type": "code",
   "execution_count": 2,
   "id": "b7e9bfc8",
   "metadata": {},
   "outputs": [
    {
     "data": {
      "text/html": [
       "<div>\n",
       "<style scoped>\n",
       "    .dataframe tbody tr th:only-of-type {\n",
       "        vertical-align: middle;\n",
       "    }\n",
       "\n",
       "    .dataframe tbody tr th {\n",
       "        vertical-align: top;\n",
       "    }\n",
       "\n",
       "    .dataframe thead th {\n",
       "        text-align: right;\n",
       "    }\n",
       "</style>\n",
       "<table border=\"1\" class=\"dataframe\">\n",
       "  <thead>\n",
       "    <tr style=\"text-align: right;\">\n",
       "      <th></th>\n",
       "      <th>Unnamed: 0</th>\n",
       "      <th>cgpa</th>\n",
       "      <th>iq</th>\n",
       "      <th>placement</th>\n",
       "    </tr>\n",
       "  </thead>\n",
       "  <tbody>\n",
       "    <tr>\n",
       "      <th>0</th>\n",
       "      <td>0</td>\n",
       "      <td>6.8</td>\n",
       "      <td>123.0</td>\n",
       "      <td>1</td>\n",
       "    </tr>\n",
       "    <tr>\n",
       "      <th>1</th>\n",
       "      <td>1</td>\n",
       "      <td>5.9</td>\n",
       "      <td>106.0</td>\n",
       "      <td>0</td>\n",
       "    </tr>\n",
       "    <tr>\n",
       "      <th>2</th>\n",
       "      <td>2</td>\n",
       "      <td>5.3</td>\n",
       "      <td>121.0</td>\n",
       "      <td>0</td>\n",
       "    </tr>\n",
       "    <tr>\n",
       "      <th>3</th>\n",
       "      <td>3</td>\n",
       "      <td>7.4</td>\n",
       "      <td>132.0</td>\n",
       "      <td>1</td>\n",
       "    </tr>\n",
       "    <tr>\n",
       "      <th>4</th>\n",
       "      <td>4</td>\n",
       "      <td>5.8</td>\n",
       "      <td>142.0</td>\n",
       "      <td>0</td>\n",
       "    </tr>\n",
       "    <tr>\n",
       "      <th>...</th>\n",
       "      <td>...</td>\n",
       "      <td>...</td>\n",
       "      <td>...</td>\n",
       "      <td>...</td>\n",
       "    </tr>\n",
       "    <tr>\n",
       "      <th>95</th>\n",
       "      <td>95</td>\n",
       "      <td>4.3</td>\n",
       "      <td>200.0</td>\n",
       "      <td>0</td>\n",
       "    </tr>\n",
       "    <tr>\n",
       "      <th>96</th>\n",
       "      <td>96</td>\n",
       "      <td>4.4</td>\n",
       "      <td>42.0</td>\n",
       "      <td>0</td>\n",
       "    </tr>\n",
       "    <tr>\n",
       "      <th>97</th>\n",
       "      <td>97</td>\n",
       "      <td>6.7</td>\n",
       "      <td>182.0</td>\n",
       "      <td>1</td>\n",
       "    </tr>\n",
       "    <tr>\n",
       "      <th>98</th>\n",
       "      <td>98</td>\n",
       "      <td>6.3</td>\n",
       "      <td>103.0</td>\n",
       "      <td>1</td>\n",
       "    </tr>\n",
       "    <tr>\n",
       "      <th>99</th>\n",
       "      <td>99</td>\n",
       "      <td>6.2</td>\n",
       "      <td>113.0</td>\n",
       "      <td>1</td>\n",
       "    </tr>\n",
       "  </tbody>\n",
       "</table>\n",
       "<p>100 rows × 4 columns</p>\n",
       "</div>"
      ],
      "text/plain": [
       "    Unnamed: 0  cgpa     iq  placement\n",
       "0            0   6.8  123.0          1\n",
       "1            1   5.9  106.0          0\n",
       "2            2   5.3  121.0          0\n",
       "3            3   7.4  132.0          1\n",
       "4            4   5.8  142.0          0\n",
       "..         ...   ...    ...        ...\n",
       "95          95   4.3  200.0          0\n",
       "96          96   4.4   42.0          0\n",
       "97          97   6.7  182.0          1\n",
       "98          98   6.3  103.0          1\n",
       "99          99   6.2  113.0          1\n",
       "\n",
       "[100 rows x 4 columns]"
      ]
     },
     "execution_count": 2,
     "metadata": {},
     "output_type": "execute_result"
    }
   ],
   "source": [
    "data=pd.read_csv('/Users/omgajipara/Desktop/Data Science/AI:ML/Machine Learning/Supervised Learning/Classification/LogisticRegression/Two Class/MultipleInput/LogisticeRegressionMultiple.csv')\n",
    "data"
   ]
  },
  {
   "cell_type": "code",
   "execution_count": 3,
   "id": "49a29af6",
   "metadata": {},
   "outputs": [],
   "source": [
    "data=data.drop(['Unnamed: 0'],axis=1)"
   ]
  },
  {
   "cell_type": "code",
   "execution_count": 4,
   "id": "f81824a6",
   "metadata": {},
   "outputs": [
    {
     "data": {
      "text/html": [
       "<div>\n",
       "<style scoped>\n",
       "    .dataframe tbody tr th:only-of-type {\n",
       "        vertical-align: middle;\n",
       "    }\n",
       "\n",
       "    .dataframe tbody tr th {\n",
       "        vertical-align: top;\n",
       "    }\n",
       "\n",
       "    .dataframe thead th {\n",
       "        text-align: right;\n",
       "    }\n",
       "</style>\n",
       "<table border=\"1\" class=\"dataframe\">\n",
       "  <thead>\n",
       "    <tr style=\"text-align: right;\">\n",
       "      <th></th>\n",
       "      <th>cgpa</th>\n",
       "      <th>iq</th>\n",
       "      <th>placement</th>\n",
       "    </tr>\n",
       "  </thead>\n",
       "  <tbody>\n",
       "    <tr>\n",
       "      <th>0</th>\n",
       "      <td>6.8</td>\n",
       "      <td>123.0</td>\n",
       "      <td>1</td>\n",
       "    </tr>\n",
       "    <tr>\n",
       "      <th>1</th>\n",
       "      <td>5.9</td>\n",
       "      <td>106.0</td>\n",
       "      <td>0</td>\n",
       "    </tr>\n",
       "    <tr>\n",
       "      <th>2</th>\n",
       "      <td>5.3</td>\n",
       "      <td>121.0</td>\n",
       "      <td>0</td>\n",
       "    </tr>\n",
       "    <tr>\n",
       "      <th>3</th>\n",
       "      <td>7.4</td>\n",
       "      <td>132.0</td>\n",
       "      <td>1</td>\n",
       "    </tr>\n",
       "    <tr>\n",
       "      <th>4</th>\n",
       "      <td>5.8</td>\n",
       "      <td>142.0</td>\n",
       "      <td>0</td>\n",
       "    </tr>\n",
       "    <tr>\n",
       "      <th>...</th>\n",
       "      <td>...</td>\n",
       "      <td>...</td>\n",
       "      <td>...</td>\n",
       "    </tr>\n",
       "    <tr>\n",
       "      <th>95</th>\n",
       "      <td>4.3</td>\n",
       "      <td>200.0</td>\n",
       "      <td>0</td>\n",
       "    </tr>\n",
       "    <tr>\n",
       "      <th>96</th>\n",
       "      <td>4.4</td>\n",
       "      <td>42.0</td>\n",
       "      <td>0</td>\n",
       "    </tr>\n",
       "    <tr>\n",
       "      <th>97</th>\n",
       "      <td>6.7</td>\n",
       "      <td>182.0</td>\n",
       "      <td>1</td>\n",
       "    </tr>\n",
       "    <tr>\n",
       "      <th>98</th>\n",
       "      <td>6.3</td>\n",
       "      <td>103.0</td>\n",
       "      <td>1</td>\n",
       "    </tr>\n",
       "    <tr>\n",
       "      <th>99</th>\n",
       "      <td>6.2</td>\n",
       "      <td>113.0</td>\n",
       "      <td>1</td>\n",
       "    </tr>\n",
       "  </tbody>\n",
       "</table>\n",
       "<p>100 rows × 3 columns</p>\n",
       "</div>"
      ],
      "text/plain": [
       "    cgpa     iq  placement\n",
       "0    6.8  123.0          1\n",
       "1    5.9  106.0          0\n",
       "2    5.3  121.0          0\n",
       "3    7.4  132.0          1\n",
       "4    5.8  142.0          0\n",
       "..   ...    ...        ...\n",
       "95   4.3  200.0          0\n",
       "96   4.4   42.0          0\n",
       "97   6.7  182.0          1\n",
       "98   6.3  103.0          1\n",
       "99   6.2  113.0          1\n",
       "\n",
       "[100 rows x 3 columns]"
      ]
     },
     "execution_count": 4,
     "metadata": {},
     "output_type": "execute_result"
    }
   ],
   "source": [
    "data"
   ]
  },
  {
   "cell_type": "code",
   "execution_count": 5,
   "id": "b82d4f15",
   "metadata": {},
   "outputs": [],
   "source": [
    "x=data.iloc[:,:-1]\n",
    "y=data['placement']"
   ]
  },
  {
   "cell_type": "code",
   "execution_count": 6,
   "id": "4afec947",
   "metadata": {},
   "outputs": [
    {
     "name": "stdout",
     "output_type": "stream",
     "text": [
      "max state 9 ,max accuracy on state 1.0\n"
     ]
    }
   ],
   "source": [
    "maxacu=0\n",
    "maxstate=0\n",
    "for state in range(0,101):\n",
    "    x_train,x_test,y_train,y_test=train_test_split(x,y,test_size=0.2,random_state=state)\n",
    "    gnn=LogisticRegression()\n",
    "    gnn.fit(x_train,y_train)\n",
    "    mmx=gnn.score(x_test,y_test)\n",
    "    if maxacu<mmx:\n",
    "        maxacu,mmx=mmx,maxacu\n",
    "        maxstate=state\n",
    "        \n",
    "\n",
    "print(f\"max state {maxstate} ,max accuracy on state {maxacu}\")\n",
    "\n",
    "\n"
   ]
  },
  {
   "cell_type": "code",
   "execution_count": null,
   "id": "32415ffc",
   "metadata": {},
   "outputs": [],
   "source": []
  },
  {
   "cell_type": "code",
   "execution_count": 7,
   "id": "685ff5e8",
   "metadata": {},
   "outputs": [
    {
     "name": "stdout",
     "output_type": "stream",
     "text": [
      "✅ Best Accuracy: 100.0000 at random_state = 9\n"
     ]
    }
   ],
   "source": [
    "\n",
    "# Step 1: Find best random_state\n",
    "best_score = 0\n",
    "best_state = 0\n",
    "\n",
    "for state in range(101):\n",
    "    X_train, X_test, y_train, y_test = train_test_split(x, y, test_size=0.2, random_state=state)\n",
    "    model = LogisticRegression()\n",
    "    model.fit(X_train, y_train)\n",
    "    \n",
    "    acc = accuracy_score(y_test, model.predict(X_test))\n",
    "    if acc > best_score:\n",
    "        best_score = acc\n",
    "        best_state = state\n",
    "\n",
    "print(f\"✅ Best Accuracy: {best_score*100:.4f} at random_state = {best_state}\")\n"
   ]
  },
  {
   "cell_type": "code",
   "execution_count": 8,
   "id": "bd7ca60f",
   "metadata": {},
   "outputs": [],
   "source": [
    "from sklearn.tree import DecisionTreeClassifier"
   ]
  },
  {
   "cell_type": "code",
   "execution_count": 13,
   "id": "29add2c2",
   "metadata": {},
   "outputs": [
    {
     "name": "stdout",
     "output_type": "stream",
     "text": [
      "0 0.9\n"
     ]
    }
   ],
   "source": [
    "maxstate=0\n",
    "maxaccuracy=0\n",
    "\n",
    "for state in range(0,101):\n",
    "    x_train,x_test,y_train,y_test=train_test_split(x,y,test_size=0.2,random_state=maxstate)\n",
    "    model=DecisionTreeClassifier(max_depth=3)\n",
    "    model.fit(x_train,y_train)\n",
    "    scor=accuracy_score(y_test, model.predict(x_test))\n",
    "    if scor>maxaccuracy:\n",
    "        scor,maxaccuracy=maxaccuracy,scor\n",
    "        maxstate=state\n",
    "print(maxstate,maxaccuracy)        "
   ]
  },
  {
   "cell_type": "code",
   "execution_count": 25,
   "id": "c1c40e75",
   "metadata": {},
   "outputs": [
    {
     "name": "stdout",
     "output_type": "stream",
     "text": [
      "1 0.03749999999999998\n"
     ]
    }
   ],
   "source": [
    "maxdepth=0\n",
    "mmm=0\n",
    "mindiff = float('inf')\n",
    "\n",
    "\n",
    "X_train, X_test, y_train, y_test = train_test_split(x, y, test_size=0.2, random_state=2)\n",
    "\n",
    "for depth in range(1,10):\n",
    "    model=DecisionTreeClassifier(max_depth=depth)\n",
    "    model.fit(X_train,y_train)\n",
    "    train_acc = accuracy_score(y_train, model.predict(X_train))\n",
    "    test_acc = accuracy_score(y_test, model.predict(X_test))\n",
    "    diff=abs(train_acc-test_acc)\n",
    "    if mindiff>diff:\n",
    "        mindiff = diff\n",
    "        maxdepth=depth\n",
    "\n",
    "\n",
    "\n",
    "print(maxdepth,mindiff)"
   ]
  },
  {
   "cell_type": "code",
   "execution_count": 26,
   "id": "8fdf9f31",
   "metadata": {},
   "outputs": [
    {
     "name": "stdout",
     "output_type": "stream",
     "text": [
      "Depth: 1, Train Acc: 0.925, Test Acc: 1.000, Diff: 0.075\n",
      "Depth: 2, Train Acc: 0.925, Test Acc: 1.000, Diff: 0.075\n",
      "Depth: 3, Train Acc: 0.938, Test Acc: 1.000, Diff: 0.062\n",
      "Depth: 4, Train Acc: 0.938, Test Acc: 1.000, Diff: 0.062\n",
      "Depth: 5, Train Acc: 0.975, Test Acc: 1.000, Diff: 0.025\n",
      "Depth: 6, Train Acc: 0.988, Test Acc: 1.000, Diff: 0.012\n",
      "Depth: 7, Train Acc: 1.000, Test Acc: 1.000, Diff: 0.000\n",
      "Depth: 8, Train Acc: 1.000, Test Acc: 1.000, Diff: 0.000\n",
      "Depth: 9, Train Acc: 1.000, Test Acc: 1.000, Diff: 0.000\n",
      "Depth: 10, Train Acc: 1.000, Test Acc: 1.000, Diff: 0.000\n",
      "Depth: 11, Train Acc: 1.000, Test Acc: 1.000, Diff: 0.000\n",
      "Depth: 12, Train Acc: 1.000, Test Acc: 1.000, Diff: 0.000\n",
      "Depth: 13, Train Acc: 1.000, Test Acc: 1.000, Diff: 0.000\n",
      "Depth: 14, Train Acc: 1.000, Test Acc: 1.000, Diff: 0.000\n",
      "Depth: 15, Train Acc: 1.000, Test Acc: 1.000, Diff: 0.000\n",
      "Depth: 16, Train Acc: 1.000, Test Acc: 1.000, Diff: 0.000\n",
      "Depth: 17, Train Acc: 1.000, Test Acc: 1.000, Diff: 0.000\n",
      "Depth: 18, Train Acc: 1.000, Test Acc: 1.000, Diff: 0.000\n",
      "Depth: 19, Train Acc: 1.000, Test Acc: 1.000, Diff: 0.000\n",
      "Depth: 20, Train Acc: 1.000, Test Acc: 1.000, Diff: 0.000\n",
      "\n",
      "✅ Best max_depth: 7 with min accuracy diff: 0.000\n"
     ]
    }
   ],
   "source": [
    "\n",
    "# Step 2: Use best_state to split again\n",
    "X_train, X_test, y_train, y_test = train_test_split(x, y, test_size=0.2, random_state=best_state)\n",
    "\n",
    "# Step 3: Find best max_depth with least train-test accuracy difference\n",
    "best_depth = None\n",
    "min_diff = float('inf')\n",
    "\n",
    "for depth in range(1, 21):\n",
    "    model = DecisionTreeClassifier(max_depth=depth, random_state=0)\n",
    "    model.fit(X_train, y_train)\n",
    "\n",
    "    train_acc = accuracy_score(y_train, model.predict(X_train))\n",
    "    test_acc = accuracy_score(y_test, model.predict(X_test))\n",
    "    diff = abs(train_acc - test_acc)\n",
    "\n",
    "    print(f\"Depth: {depth}, Train Acc: {train_acc:.3f}, Test Acc: {test_acc:.3f}, Diff: {diff:.3f}\")\n",
    "\n",
    "    if diff < min_diff:\n",
    "        min_diff = diff\n",
    "        best_depth = depth\n",
    "\n",
    "print(f\"\\n✅ Best max_depth: {best_depth} with min accuracy diff: {min_diff:.3f}\")\n"
   ]
  },
  {
   "cell_type": "code",
   "execution_count": null,
   "id": "17b17747",
   "metadata": {},
   "outputs": [],
   "source": []
  }
 ],
 "metadata": {
  "kernelspec": {
   "display_name": "Python 3 (ipykernel)",
   "language": "python",
   "name": "python3"
  },
  "language_info": {
   "codemirror_mode": {
    "name": "ipython",
    "version": 3
   },
   "file_extension": ".py",
   "mimetype": "text/x-python",
   "name": "python",
   "nbconvert_exporter": "python",
   "pygments_lexer": "ipython3",
   "version": "3.13.1"
  }
 },
 "nbformat": 4,
 "nbformat_minor": 5
}
