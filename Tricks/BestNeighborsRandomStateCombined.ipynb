{
 "cells": [
  {
   "cell_type": "code",
   "execution_count": null,
   "id": "275a076e",
   "metadata": {},
   "outputs": [],
   "source": [
    "from sklearn.model_selection import train_test_split\n",
    "from sklearn.neighbors import KNeighborsClassifier\n",
    "from sklearn.preprocessing import StandardScaler\n",
    "from sklearn.metrics import accuracy_score\n",
    "import numpy as np\n",
    "\n",
    "best_diff = float('inf')\n",
    "best_state = None\n",
    "best_k = None\n",
    "best_train_score = 0\n",
    "best_test_score = 0\n",
    "\n",
    "# Loop through random states and k values\n",
    "for random_state in range(0, 100):\n",
    "    x_train, x_test, y_train, y_test = train_test_split(x_scaled, y, test_size=0.2, random_state=random_state)\n",
    "    \n",
    "    for k in range(1, 21):\n",
    "        knn = KNeighborsClassifier(n_neighbors=k)\n",
    "        knn.fit(x_train, y_train)\n",
    "        \n",
    "        train_score = knn.score(x_train, y_train)\n",
    "        test_score = knn.score(x_test, y_test)\n",
    "        diff = abs(train_score - test_score)\n",
    "        \n",
    "        if diff < best_diff:\n",
    "            best_diff = diff\n",
    "            best_state = random_state\n",
    "            best_k = k\n",
    "            best_train_score = train_score\n",
    "            best_test_score = test_score\n",
    "\n",
    "print(f\"Best Random State: {best_state}\")\n",
    "print(f\"Best k (n_neighbors): {best_k}\")\n",
    "print(f\"Train Accuracy: {best_train_score*100:.2f}%\")\n",
    "print(f\"Test Accuracy: {best_test_score*100:.2f}%\")\n",
    "print(f\"Score Difference: {best_diff*100:.2f}%\")\n"
   ]
  }
 ],
 "metadata": {
  "language_info": {
   "name": "python"
  }
 },
 "nbformat": 4,
 "nbformat_minor": 5
}
