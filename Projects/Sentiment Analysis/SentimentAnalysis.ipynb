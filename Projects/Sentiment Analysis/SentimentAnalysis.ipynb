{
 "cells": [
  {
   "cell_type": "code",
   "execution_count": 1,
   "id": "102a3fe1-b61b-444b-a0b4-478d6050ca46",
   "metadata": {},
   "outputs": [
    {
     "name": "stderr",
     "output_type": "stream",
     "text": [
      "[nltk_data] Downloading package averaged_perceptron_tagger_eng to\n",
      "[nltk_data]     /Users/omgajipara/nltk_data...\n",
      "[nltk_data]   Package averaged_perceptron_tagger_eng is already up-to-\n",
      "[nltk_data]       date!\n"
     ]
    },
    {
     "data": {
      "text/plain": [
       "\"\\n# Ensure NLTK resources are downloaded\\nnltk.download('wordnet')\\nnltk.download('omw-1.4')\""
      ]
     },
     "execution_count": 1,
     "metadata": {},
     "output_type": "execute_result"
    }
   ],
   "source": [
    "import re\n",
    "import pandas as pd\n",
    "from nltk.tokenize import RegexpTokenizer\n",
    "from nltk.stem import WordNetLemmatizer\n",
    "from nltk.corpus import wordnet\n",
    "from sklearn.model_selection import train_test_split\n",
    "from sklearn.feature_extraction.text import TfidfVectorizer\n",
    "from sklearn.linear_model import LogisticRegression\n",
    "from sklearn.metrics import confusion_matrix, classification_report,  roc_curve, auc\n",
    "import nltk\n",
    "import matplotlib.pyplot as plt\n",
    "import seaborn as sns\n",
    "\n",
    "nltk.download('averaged_perceptron_tagger_eng')\n",
    "'''\n",
    "# Ensure NLTK resources are downloaded\n",
    "nltk.download('wordnet')\n",
    "nltk.download('omw-1.4')'''"
   ]
  },
  {
   "cell_type": "code",
   "execution_count": 35,
   "id": "8bc52e02-c557-49e1-9551-33f87930ae00",
   "metadata": {},
   "outputs": [
    {
     "name": "stdout",
     "output_type": "stream",
     "text": [
      "(1000, 6)\n"
     ]
    },
    {
     "data": {
      "text/plain": [
       "target                                                    0\n",
       "ids                                              1962138498\n",
       "date                           Fri May 29 10:34:56 PDT 2009\n",
       "flag                                               NO_QUERY\n",
       "user                                        jessiesingswhoa\n",
       "text      hillsong tom. night, and dad's birthday! i wis...\n",
       "Name: 933, dtype: object"
      ]
     },
     "execution_count": 35,
     "metadata": {},
     "output_type": "execute_result"
    }
   ],
   "source": [
    "# Step 1: Load the dataset\n",
    "\n",
    "df = pd.read_csv('/Users/omgajipara/Desktop/Data Science/Projects/Sentiment Analysis/SentimentAnalysis.csv')\n",
    "\n",
    "\n",
    "# Check the size of the smaller dataset\n",
    "print(df.shape)\n",
    "df.iloc[933]\n"
   ]
  },
  {
   "cell_type": "code",
   "execution_count": 3,
   "id": "c127f0d6-b6b2-4139-a03f-816174902add",
   "metadata": {
    "scrolled": true
   },
   "outputs": [
    {
     "name": "stdout",
     "output_type": "stream",
     "text": [
      "Unique value counts in the target column:\n",
      "target\n",
      "4    504\n",
      "0    496\n",
      "Name: count, dtype: int64\n"
     ]
    }
   ],
   "source": [
    "print(\"Unique value counts in the target column:\")\n",
    "print(df['target'].value_counts())"
   ]
  },
  {
   "cell_type": "code",
   "execution_count": 4,
   "id": "52737ad9-46b7-4707-867d-e591b22dd3c6",
   "metadata": {},
   "outputs": [],
   "source": [
    "def clean_text(text):\n",
    "    stopwordlist = [\n",
    "        'a', 'about', 'above', 'after', 'again', 'ain', 'all', 'am', 'an',\n",
    "        'and', 'any', 'are', 'as', 'at', 'be', 'because', 'been', 'before',\n",
    "        'being', 'below', 'between', 'both', 'by', 'can', 'd', 'did', 'do',\n",
    "        'does', 'doing', 'down', 'during', 'each', 'few', 'for', 'from',\n",
    "        'further', 'had', 'has', 'have', 'having', 'he', 'her', 'here',\n",
    "        'hers', 'herself', 'him', 'himself', 'his', 'how', 'i', 'if', 'in',\n",
    "        'into', 'is', 'it', \"it's\", 'its', 'itself', 'just', 'll', 'm', 'ma',\n",
    "        'me', 'more', 'most', 'my', 'myself', 'needn', 'no', 'nor', 'now',\n",
    "        'o', 'of', 'on', 'once', 'only', 'or', 'other', 'our', 'ours', 'ourselves',\n",
    "        'out', 'own', 're', 's', 'same', 'she', \"shes\", 'should', \"shouldve\", 'so', 'some', 'such',\n",
    "        't', 'than', 'that', \"thatll\", 'the', 'their', 'theirs', 'them',\n",
    "        'themselves', 'then', 'there', 'these', 'they', 'this', 'those',\n",
    "        'through', 'to', 'too', 'under', 'until', 'up', 've', 'very', 'was',\n",
    "        'we', 'were', 'what', 'when', 'where', 'which', 'while', 'who', 'whom',\n",
    "        'why', 'will', 'with', 'won', 'y', 'you', \"youd\", \"youll\", \"youre\",\n",
    "        \"youve\", 'your', 'yours', 'yourself', 'yourselves'\n",
    "    ]\n",
    "\n",
    "    # Function to get NLTK POS tag to WordNet POS tag\n",
    "    def get_wordnet_pos(treebank_tag):\n",
    "        if treebank_tag.startswith('J'):\n",
    "            return wordnet.ADJ\n",
    "        elif treebank_tag.startswith('V'):\n",
    "            return wordnet.VERB\n",
    "        elif treebank_tag.startswith('N'):\n",
    "            return wordnet.NOUN\n",
    "        elif treebank_tag.startswith('R'):\n",
    "            return wordnet.ADV\n",
    "        else:\n",
    "            return wordnet.NOUN\n",
    "    \n",
    "    # Convert to lowercase\n",
    "    text = text.lower()\n",
    "    # Remove URLs\n",
    "    text = re.sub(r'((www\\.[^\\s]+)|(https?://[^\\s]+))', ' ', text)\n",
    "    # Replace @mentions with 'USER'\n",
    "    text = re.sub(r'@[\\S]+', 'USER', text)\n",
    "    # Remove hashtags but keep the text\n",
    "    text = re.sub(r'#(\\S+)', r'\\1', text)\n",
    "    # Remove digits\n",
    "    text = re.sub(r'\\d+', '', text)\n",
    "    # Remove extra whitespace\n",
    "    text = re.sub(r'\\s+', ' ', text)\n",
    "    # Strip leading and trailing whitespace\n",
    "    text = text.strip()\n",
    "    # Remove stopwords\n",
    "    text = \" \".join([word for word in text.split() if word not in stopwordlist])\n",
    "    # Tokenize text\n",
    "    tokenizer = RegexpTokenizer(r'\\w+|[^\\w\\s]')\n",
    "    tokens = tokenizer.tokenize(text)\n",
    "\n",
    "    # POS tagging\n",
    "    pos_tags = nltk.pos_tag(tokens)\n",
    "\n",
    "    # Lemmatize each token with the appropriate POS tag\n",
    "    lemmatizer = WordNetLemmatizer()\n",
    "    lemmatized_tokens = [lemmatizer.lemmatize(token, get_wordnet_pos(tag)) for token, tag in pos_tags]\n",
    "    \n",
    "    return \" \".join(lemmatized_tokens)"
   ]
  },
  {
   "cell_type": "code",
   "execution_count": 5,
   "id": "ca21c361-0414-4322-8ee6-7a0fa6e81a21",
   "metadata": {},
   "outputs": [],
   "source": [
    "# Replace target values\n",
    "df['target'] = df['target'].replace(4, 1)\n",
    "\n",
    "# Preprocess the text data\n",
    "df['text'] = df['text'].apply(clean_text)\n",
    "\n",
    "# Split the dataset into training and testing sets\n",
    "X_train, X_test, y_train, y_test = train_test_split(df['text'], df['target'], test_size=0.2, random_state=42)\n"
   ]
  },
  {
   "cell_type": "code",
   "execution_count": 6,
   "id": "9f3d93d5-357d-417b-8c0c-3e37745fe77a",
   "metadata": {},
   "outputs": [],
   "source": [
    "# Initialize the TfidfVectorizer\n",
    "vectorizer = TfidfVectorizer(max_features=500000, ngram_range=(1, 2))\n",
    "\n",
    "# Fit and transform the training data\n",
    "X_train_vect = vectorizer.fit_transform(X_train)\n",
    "\n",
    "# Transform the testing data\n",
    "X_test_vect = vectorizer.transform(X_test)"
   ]
  },
  {
   "cell_type": "code",
   "execution_count": 15,
   "id": "9f817a8f-4218-486b-9003-990726e83668",
   "metadata": {},
   "outputs": [],
   "source": [
    "# Step 5: Model building and evaluation function\n",
    "def evaluate_model(model):\n",
    "    model.fit(X_train_vect, y_train)\n",
    "    y_pred = model.predict(X_test_vect)\n",
    "    print(classification_report(y_test, y_pred))\n",
    "    cm = confusion_matrix(y_test, y_pred)\n",
    "    sns.heatmap(cm, annot=True, fmt='d', cmap='Blues')\n",
    "    plt.xlabel('Predicted')\n",
    "    plt.ylabel('Actual')\n",
    "    plt.show()\n",
    "\n",
    "  "
   ]
  },
  {
   "cell_type": "markdown",
   "id": "d1d273cd",
   "metadata": {},
   "source": [
    "  fpr, tpr, _ = roc_curve(y_test, model.predict_proba(X_test_vect)[:, 1])\n",
    "    plt.plot(fpr, tpr, label='ROC curve (area = %0.2f)' % auc(fpr, tpr))\n",
    "    plt.plot([0, 1], [0, 1], 'k--')\n",
    "    plt.xlabel('False Positive Rate')\n",
    "    plt.ylabel('True Positive Rate')\n",
    "    plt.title('ROC Curve')\n",
    "    plt.legend(loc=\"lower right\")\n",
    "    plt.show()"
   ]
  },
  {
   "cell_type": "code",
   "execution_count": 16,
   "id": "288b78a3-e893-47f0-bfb0-b2b34e943de1",
   "metadata": {},
   "outputs": [
    {
     "name": "stdout",
     "output_type": "stream",
     "text": [
      "              precision    recall  f1-score   support\n",
      "\n",
      "           0       0.67      0.66      0.66        94\n",
      "           1       0.70      0.71      0.70       106\n",
      "\n",
      "    accuracy                           0.69       200\n",
      "   macro avg       0.68      0.68      0.68       200\n",
      "weighted avg       0.68      0.69      0.68       200\n",
      "\n"
     ]
    },
    {
     "data": {
      "image/png": "[encoded data removed]",
      "text/plain": [
       "<Figure size 640x480 with 2 Axes>"
      ]
     },
     "metadata": {},
     "output_type": "display_data"
    }
   ],
   "source": [
    "# Step 6: Training and evaluating models\n",
    "# Logistic Regression\n",
    "lr_model = LogisticRegression(C = 2, max_iter = 1000, n_jobs=-1)\n",
    "evaluate_model(lr_model)\n"
   ]
  },
  {
   "cell_type": "code",
   "execution_count": 9,
   "id": "24de6288-005e-465c-bdba-93f84af46a20",
   "metadata": {},
   "outputs": [
    {
     "name": "stdout",
     "output_type": "stream",
     "text": [
      "[1]\n",
      "Predicted Sentiment: Positive\n"
     ]
    }
   ],
   "source": [
    "# Example test tweet\n",
    "test_tweet = [\"I love the new design of your website!\"]\n",
    "\n",
    "test_tweet = [clean_text(test_tweet[0])]\n",
    "# Transform the test tweet using the same vectorizer\n",
    "vectorized_tweet = vectorizer.transform(test_tweet)\n",
    "\n",
    "# Predict the sentiment\n",
    "predicted_sentiment = lr_model.predict(vectorized_tweet)\n",
    "print(predicted_sentiment)\n",
    "# Output the result\n",
    "print(f\"Predicted Sentiment: {'Positive' if predicted_sentiment[0] == 1 else 'Negative'}\")"
   ]
  },
  {
   "cell_type": "code",
   "execution_count": 10,
   "id": "974d21d4-db36-47f8-a18c-cd3d2ae33ae9",
   "metadata": {},
   "outputs": [
    {
     "name": "stdout",
     "output_type": "stream",
     "text": [
      "Predicted Sentiment: Negative\n"
     ]
    }
   ],
   "source": [
    "# Take input from the user\n",
    "user_input = input(\"Enter a tweet for sentiment analysis: \")\n",
    "\n",
    "# Clean the input text\n",
    "cleaned_tweet = clean_text(user_input)\n",
    "\n",
    "# Transform the input using the same vectorizer\n",
    "vectorized_tweet = vectorizer.transform([cleaned_tweet])\n",
    "\n",
    "# Predict the sentiment\n",
    "predicted_sentiment = lr_model.predict(vectorized_tweet)\n",
    "\n",
    "# Output the result\n",
    "print(f\"Predicted Sentiment: {'Positive' if predicted_sentiment[0] == 1 else 'Negative'}\")\n"
   ]
  },
  {
   "cell_type": "code",
   "execution_count": null,
   "id": "b422fce8-292d-4a4d-baec-c7fe98ccd6a0",
   "metadata": {},
   "outputs": [],
   "source": []
  },
  {
   "cell_type": "code",
   "execution_count": null,
   "id": "ada0887f-d86e-401b-a7d8-e518361f3565",
   "metadata": {},
   "outputs": [],
   "source": []
  },
  {
   "cell_type": "code",
   "execution_count": null,
   "id": "65c61d5a-df5f-49ac-b0b8-e4b7617c3a47",
   "metadata": {},
   "outputs": [],
   "source": []
  },
  {
   "cell_type": "code",
   "execution_count": null,
   "id": "85aaacb2",
   "metadata": {},
   "outputs": [],
   "source": []
  }
 ],
 "metadata": {
  "kernelspec": {
   "display_name": "Python 3 (ipykernel)",
   "language": "python",
   "name": "python3"
  },
  "language_info": {
   "codemirror_mode": {
    "name": "ipython",
    "version": 3
   },
   "file_extension": ".py",
   "mimetype": "text/x-python",
   "name": "python",
   "nbconvert_exporter": "python",
   "pygments_lexer": "ipython3",
   "version": "3.13.1"
  }
 },
 "nbformat": 4,
 "nbformat_minor": 5
}
