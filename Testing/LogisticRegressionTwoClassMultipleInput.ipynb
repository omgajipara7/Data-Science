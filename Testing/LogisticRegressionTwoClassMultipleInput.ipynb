{
 "cells": [
  {
   "cell_type": "code",
   "execution_count": 1,
   "id": "34020153",
   "metadata": {},
   "outputs": [
    {
     "name": "stdout",
     "output_type": "stream",
     "text": [
      "Prediction on placement:if 0 not placed if 1 placed\n"
     ]
    }
   ],
   "source": [
    "import pickle\n",
    "import pandas as pd\n",
    "\n",
    "\n",
    "# Load\n",
    "with open(\"/Users/omgajipara/Desktop/Data Science/TrainedModels/LogisticRegressionTwoClassMultipleInput/LogisticRegressionTwoClassMultipleInput_model.pkl\", \"rb\") as f:\n",
    "    lr = pickle.load(f)\n",
    "\n",
    "with open(\"/Users/omgajipara/Desktop/Data Science/TrainedModels/LogisticRegressionTwoClassMultipleInput/LogisticRegressionTwoClassMultipleInput_scaler.pkl\", \"rb\") as f:\n",
    "    scaler = pickle.load(f)\n",
    "\n",
    "\n",
    "# Define columns\n",
    "columns=['cgpa','iq']\n",
    "new_input_df = pd.DataFrame([[6.89,123]], columns=columns)\n",
    "\n",
    "# Scale the input\n",
    "new_input_scaled = scaler.transform(new_input_df)\n",
    "\n",
    "# Predict the salary\n",
    "predicted_salary = lr.predict(new_input_scaled)\n",
    "\n",
    "print(f\"Prediction on placement:if 0 not placed if 1 placed\")\n"
   ]
  },
  {
   "cell_type": "code",
   "execution_count": null,
   "id": "932af90f",
   "metadata": {},
   "outputs": [],
   "source": []
  }
 ],
 "metadata": {
  "kernelspec": {
   "display_name": "Python 3 (ipykernel)",
   "language": "python",
   "name": "python3"
  },
  "language_info": {
   "codemirror_mode": {
    "name": "ipython",
    "version": 3
   },
   "file_extension": ".py",
   "mimetype": "text/x-python",
   "name": "python",
   "nbconvert_exporter": "python",
   "pygments_lexer": "ipython3",
   "version": "3.13.1"
  }
 },
 "nbformat": 4,
 "nbformat_minor": 5
}
