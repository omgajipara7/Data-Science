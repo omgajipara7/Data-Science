{
 "cells": [
  {
   "cell_type": "code",
   "execution_count": 4,
   "id": "569b2d0a",
   "metadata": {},
   "outputs": [
    {
     "name": "stdout",
     "output_type": "stream",
     "text": [
      "Predicted outcome (0=No Diabetes, 1=Diabetes): [0] No Diabetes\n"
     ]
    }
   ],
   "source": [
    "import pickle\n",
    "import pandas as pd\n",
    "\n",
    "\n",
    "# Load\n",
    "with open(\"/Users/omgajipara/Desktop/Data Science/TrainedModels/Diabetes_model.pkl\", \"rb\") as f:\n",
    "    model = pickle.load(f)\n",
    "\n",
    "with open(\"/Users/omgajipara/Desktop/Data Science/TrainedModels/Diabetes_scaler.pkl\", \"rb\") as f:\n",
    "    scaler = pickle.load(f)\n",
    "\n",
    "\n",
    "\n",
    "columns = ['Pregnancies', 'Glucose', 'BloodPressure', 'SkinThickness',\n",
    "           'Insulin', 'BMI', 'DiabetesPedigreeFunction', 'Age']\n",
    "\n",
    "new_input_df = pd.DataFrame([[2, 130, 70, 25, 100, 28.0, 0.5, 35]], columns=columns)\n",
    "new_input_scaled = scaler.transform(new_input_df)\n",
    "result = model.predict(new_input_scaled)\n",
    "\n",
    "\n",
    "if result==0:\n",
    "    print(\"Predicted outcome (0=No Diabetes, 1=Diabetes):\", result,\"No Diabetes\")\n",
    "else:\n",
    "    print(\"Predicted outcome (0=No Diabetes, 1=Diabetes):\", result,\"Diabetes\")"
   ]
  }
 ],
 "metadata": {
  "kernelspec": {
   "display_name": "Python 3 (ipykernel)",
   "language": "python",
   "name": "python3"
  },
  "language_info": {
   "codemirror_mode": {
    "name": "ipython",
    "version": 3
   },
   "file_extension": ".py",
   "mimetype": "text/x-python",
   "name": "python",
   "nbconvert_exporter": "python",
   "pygments_lexer": "ipython3",
   "version": "3.13.1"
  }
 },
 "nbformat": 4,
 "nbformat_minor": 5
}
