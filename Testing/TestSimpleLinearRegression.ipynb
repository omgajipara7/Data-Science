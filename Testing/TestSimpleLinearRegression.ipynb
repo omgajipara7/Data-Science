{
 "cells": [
  {
   "cell_type": "code",
   "execution_count": 3,
   "id": "2411450d",
   "metadata": {},
   "outputs": [
    {
     "name": "stdout",
     "output_type": "stream",
     "text": [
      "Predicted Salary: ₹2.94\n"
     ]
    }
   ],
   "source": [
    "import pickle\n",
    "import pandas as pd\n",
    "\n",
    "\n",
    "# Load\n",
    "with open(\"/Users/omgajipara/Desktop/Data Science/TrainedModels/SimpleLinearRegression/SimpleLinearRegression_model.pkl\", \"rb\") as f:\n",
    "    model = pickle.load(f)\n",
    "\n",
    "with open(\"/Users/omgajipara/Desktop/Data Science/TrainedModels/SimpleLinearRegression/SimpleLinearRegression_scaler.pkl\", \"rb\") as f:\n",
    "    scaler = pickle.load(f)\n",
    "\n",
    "\n",
    "# Define columns\n",
    "columns=['cgpa']\n",
    "new_input_df = pd.DataFrame([[6.89]], columns=columns)\n",
    "\n",
    "# Scale the input\n",
    "new_input_scaled = scaler.transform(new_input_df)\n",
    "\n",
    "# Predict the salary\n",
    "predicted_salary = model.predict(new_input_scaled)\n",
    "\n",
    "print(f\"Predicted Salary: ₹{predicted_salary[0]:.2f}\")\n"
   ]
  }
 ],
 "metadata": {
  "kernelspec": {
   "display_name": "Python 3 (ipykernel)",
   "language": "python",
   "name": "python3"
  },
  "language_info": {
   "codemirror_mode": {
    "name": "ipython",
    "version": 3
   },
   "file_extension": ".py",
   "mimetype": "text/x-python",
   "name": "python",
   "nbconvert_exporter": "python",
   "pygments_lexer": "ipython3",
   "version": "3.13.1"
  }
 },
 "nbformat": 4,
 "nbformat_minor": 5
}
