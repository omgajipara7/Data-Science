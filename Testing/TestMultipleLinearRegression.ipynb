{
 "cells": [
  {
   "cell_type": "code",
   "execution_count": 9,
   "id": "87ea2a40",
   "metadata": {},
   "outputs": [
    {
     "name": "stdout",
     "output_type": "stream",
     "text": [
      "Predicted Salary: ₹53871.81\n"
     ]
    }
   ],
   "source": [
    "import pickle\n",
    "import pandas as pd\n",
    "\n",
    "\n",
    "# Load\n",
    "with open(\"/Users/omgajipara/Desktop/Data Science/TrainedModels/MultipleLinearRegression/MultipleLinearRegression_model.pkl\", \"rb\") as f:\n",
    "    model = pickle.load(f)\n",
    "\n",
    "with open(\"/Users/omgajipara/Desktop/Data Science/TrainedModels/MultipleLinearRegression/MultipleLinearRegression_scaler.pkl\", \"rb\") as f:\n",
    "    scaler = pickle.load(f)\n",
    "\n",
    "\n",
    "import pandas as pd\n",
    "\n",
    "# Define columns\n",
    "columns = ['YearsExperience', 'Age']\n",
    "\n",
    "# Example new input: 3.5 years experience and 24 years age\n",
    "new_input_df = pd.DataFrame([[3, 23]], columns=columns)\n",
    "\n",
    "# Scale the input\n",
    "new_input_scaled = scaler.transform(new_input_df)\n",
    "\n",
    "# Predict the salary\n",
    "predicted_salary = model.predict(new_input_scaled)\n",
    "\n",
    "print(f\"Predicted Salary: ₹{predicted_salary[0]:.2f}\")\n"
   ]
  }
 ],
 "metadata": {
  "kernelspec": {
   "display_name": "Python 3 (ipykernel)",
   "language": "python",
   "name": "python3"
  },
  "language_info": {
   "codemirror_mode": {
    "name": "ipython",
    "version": 3
   },
   "file_extension": ".py",
   "mimetype": "text/x-python",
   "name": "python",
   "nbconvert_exporter": "python",
   "pygments_lexer": "ipython3",
   "version": "3.13.1"
  }
 },
 "nbformat": 4,
 "nbformat_minor": 5
}
