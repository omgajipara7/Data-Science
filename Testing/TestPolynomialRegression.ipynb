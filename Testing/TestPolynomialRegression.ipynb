{
 "cells": [
  {
   "cell_type": "code",
   "execution_count": 18,
   "id": "7d971f77",
   "metadata": {},
   "outputs": [
    {
     "name": "stdout",
     "output_type": "stream",
     "text": [
      "<class 'sklearn.linear_model._base.LinearRegression'>\n",
      "<class 'sklearn.preprocessing._polynomial.PolynomialFeatures'>\n",
      "[149382.23938226]\n"
     ]
    }
   ],
   "source": [
    "# Load\n",
    "with open(\"/Users/omgajipara/Desktop/Data Science/TrainedModels/PolynomialRegression/PolynomialRegression_model.pkl\", \"rb\") as f:\n",
    "    lr = pickle.load(f)\n",
    "\n",
    "with open(\"/Users/omgajipara/Desktop/Data Science/TrainedModels/PolynomialRegression/PolynomialRegression_transformer.pkl\",\"rb\") as f:\n",
    "    pf = pickle.load(f)\n",
    "\n",
    "print(type(lr))\n",
    "print(type(pf))\n",
    "\n",
    "\n",
    "# Predict\n",
    "result = lr.predict(pf.transform([[6]]))\n",
    "print(result)\n"
   ]
  }
 ],
 "metadata": {
  "kernelspec": {
   "display_name": "Python 3 (ipykernel)",
   "language": "python",
   "name": "python3"
  },
  "language_info": {
   "codemirror_mode": {
    "name": "ipython",
    "version": 3
   },
   "file_extension": ".py",
   "mimetype": "text/x-python",
   "name": "python",
   "nbconvert_exporter": "python",
   "pygments_lexer": "ipython3",
   "version": "3.13.1"
  }
 },
 "nbformat": 4,
 "nbformat_minor": 5
}
